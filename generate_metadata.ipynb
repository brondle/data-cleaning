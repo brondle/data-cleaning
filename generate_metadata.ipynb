{
 "cells": [
  {
   "cell_type": "markdown",
   "metadata": {},
   "source": [
    "Set up the notebook"
   ]
  },
  {
   "cell_type": "code",
   "execution_count": 1,
   "metadata": {},
   "outputs": [],
   "source": [
    "import os\n",
    "import csv\n",
    "import json\n",
    "\n",
    "notebook_path = os.path.abspath(\"generate_metadata.ipynb\")"
   ]
  },
  {
   "cell_type": "markdown",
   "metadata": {},
   "source": [
    "Add the CSV file you're working with (in the same folder as this python notebook):"
   ]
  },
  {
   "cell_type": "code",
   "execution_count": 29,
   "metadata": {},
   "outputs": [],
   "source": [
    "infilename = 'datasets/housing_data.csv'#\"{your file here}.csv\"\n",
    "infilepath = os.path.join(os.path.dirname(notebook_path), infilename)"
   ]
  },
  {
   "cell_type": "markdown",
   "metadata": {},
   "source": [
    "Fill out the fields for the data card, excepting \"fields\" and \"column\" - we'll get to those later. A template is [here](https://hackmd.io/62se7jj-Qoycs__e6NjS2w)."
   ]
  },
  {
   "cell_type": "code",
   "execution_count": 30,
   "metadata": {},
   "outputs": [],
   "source": [
    "data = {\n",
    "    #ignore this\n",
    "    'fields': [],\n",
    "    #here we include the basic card information\n",
    "    'card': {\n",
    "        # a short description of the dataset\n",
    "        'description': \"A widely used, small dataset on housing in the Boston, Masachusetts area.\", \n",
    "        # a link to the original source\n",
    "        'source': 'University of Toronto (https://www.cs.toronto.edu/~delve/data/boston/desc.html)', \n",
    "        #date last updated (if possible)\n",
    "        'last_updated': '1978', \n",
    "        'context': \n",
    "        {\n",
    "            # who it was created by\n",
    "            'created_by': 'US Census Service',\n",
    "            # has it been cleaned/prepared for use\n",
    "            'preparation': 'Yes', \n",
    "            # does it contain potential identifying/confidential information\n",
    "            'confidentiality': 'No', \n",
    "            # does it contain information that can identify a subgroup of people (age, race, gender)\n",
    "            'subgroup_identifiers': 'No', \n",
    "            # what are potential uses (e.g. what are some successful combinations of features)?\n",
    "            'potential_uses': \"Predict median home value based on Black population and parent teacher ratio.\", \n",
    "            # what should it not be used for?\n",
    "            'potential_misuses': \"This is an old dataset, so it's unlikely to reflect contemporary home values. This is also a dataset that reflects racial and economic biases: is it right or fair that home values tended to be higher in areas where the population was more wealthy, or less Black?\"\n",
    "        }\n",
    "    }\n",
    "}\n"
   ]
  },
  {
   "cell_type": "markdown",
   "metadata": {},
   "source": [
    "Now that we've done our basic setup, let's get to the columns. Run this code, which should display the available columns in the csv"
   ]
  },
  {
   "cell_type": "code",
   "execution_count": 31,
   "metadata": {},
   "outputs": [
    {
     "name": "stdout",
     "output_type": "stream",
     "text": [
      "('Per Capita Crime Rate', 'Proportion of Residental Land Zoned for >25Kft', 'Proportion of non-retail business acres', 'Bounds Charles River?', 'Nitric Oxide Concentration (PPM)', 'Rooms per dwelling', '% of buildings pre-1940', 'Distance to employment centers', 'Accessibility to highways', 'Property tax', 'Student-teacher ratio', 'Weighted black population', 'Lower status population', 'Median home value')\n"
     ]
    }
   ],
   "source": [
    "with open(infilepath, 'r') as infile:\n",
    "    reader = csv.reader(infile, delimiter=\",\")\n",
    "    csv_list = list(map(tuple, reader))\n",
    "    columns = csv_list[0]\n",
    "    print(columns)"
   ]
  },
  {
   "cell_type": "markdown",
   "metadata": {},
   "source": [
    "First, if you have a recommended investigation, enter the relevant features here: "
   ]
  },
  {
   "cell_type": "code",
   "execution_count": 32,
   "metadata": {},
   "outputs": [],
   "source": [
    "#set features\n",
    "data['recommended_features'] = ['GDP per capita', 'Student-teacher ratio', 'Lower status population']\n",
    "#set label\n",
    "data['recommended_label'] = 'Median home value'"
   ]
  },
  {
   "cell_type": "markdown",
   "metadata": {},
   "source": [
    "Assign each column to a list of either continuous or categorical data, e.g. ```\n",
    "continuous = ['temperature', 'score']\n",
    "categorical = ['state', 'color']\n",
    "```"
   ]
  },
  {
   "cell_type": "code",
   "execution_count": 34,
   "metadata": {},
   "outputs": [
    {
     "name": "stdout",
     "output_type": "stream",
     "text": [
      "columns:  ('Per Capita Crime Rate', 'Proportion of Residental Land Zoned for >25Kft', 'Proportion of non-retail business acres', 'Bounds Charles River?', 'Nitric Oxide Concentration (PPM)', 'Rooms per dwelling', '% of buildings pre-1940', 'Distance to employment centers', 'Accessibility to highways', 'Property tax', 'Student-teacher ratio', 'Weighted black population', 'Lower status population', 'Median home value')\n"
     ]
    }
   ],
   "source": [
    "    continuous = ['Per Capita Crime Rate', 'Proportion of Residental Land Zoned for >25Kft', 'Proportion of non-retail business acres',  'Nitric Oxide Concentration (PPM)', 'Rooms per dwelling', '% of buildings pre-1940', 'Distance to employment centers', 'Accessibility to highways', 'Property tax', 'Student-teacher ratio', 'Weighted black population', 'Lower status population', 'Median home value']\n",
    "    categorical = ['Bounds Charles River?']\n",
    "    # reset fields in case you're making changes\n",
    "    data['fields'] = []\n",
    "    for i in columns:\n",
    "        if i in continuous:\n",
    "            data['fields'].append({'type': 'continuous', 'id': i})\n",
    "        elif i in categorical:\n",
    "            data['fields'].append({'type': 'categorical', 'id': i})\n",
    "        else:\n",
    "            raise Exception(\"You forget to set a type for %f\", i)\n",
    "    \n",
    "#     print('Set field information:', data['fields'])\n",
    " #    columns = data['fields'].copy()\n",
    "#     print('\\b')\n",
    "    print('columns: ', columns)\n",
    "\n",
    "    "
   ]
  },
  {
   "cell_type": "markdown",
   "metadata": {},
   "source": [
    "We've set our columns for the interface, now let's just add descriptions as a list - e.g. if our columns are `['Year', 'Temperature']` our list might be `['The year the measurement was taken', 'The temperature in Celsius']`. Do this in the same order the columns are printed above."
   ]
  },
  {
   "cell_type": "code",
   "execution_count": 35,
   "metadata": {},
   "outputs": [],
   "source": [
    "    desc = [\"Per capita crime rate by town\", 'Proportion of residential land zoned for lots over 25,000 square feet.','Proportion of non-retail business acres per town.', \"1 if the land is next to the Charles River, 0 otherwise. Some towns have an 'NA' where the answer is uncertain.\", 'Nitric oxide concentration in parts per 10 million.', 'Average number of rooms per dwelling.',  'Proportion of owner-occupied units build prior to 1940.',\"Weighted distance to 5 major Boston employment centers.\", 'A weighted measure of accessibility to major highways.', \"Property tax rate per $10,000.\", \"The average student to teacher ratio by town.\", \"A weighted measure of the Black population per town.\", \"The percent of the population designated as 'lower status'.\", \"Median home value in $1000s.\"]\n",
    "    if len(desc) < len(data['fields']):\n",
    "        raise Exception(\"You don't have a description for each column!\")\n",
    "    for idx, i in enumerate(data['fields']):\n",
    "        i['description'] =  desc[idx]\n"
   ]
  },
  {
   "cell_type": "markdown",
   "metadata": {},
   "source": [
    "Take a look and make sure everything is right, and if you're confident, we can write our data to a JSON file."
   ]
  },
  {
   "cell_type": "code",
   "execution_count": 36,
   "metadata": {},
   "outputs": [
    {
     "name": "stdout",
     "output_type": "stream",
     "text": [
      "datasets/housing_data.csv\n"
     ]
    }
   ],
   "source": [
    "    print(infilename)\n",
    "    with open(infilename.split('.')[0] + '.json', 'w') as outfile:\n",
    "        json.dump(data, outfile)"
   ]
  },
  {
   "cell_type": "code",
   "execution_count": null,
   "metadata": {},
   "outputs": [],
   "source": []
  }
 ],
 "metadata": {
  "kernelspec": {
   "display_name": "Python 3",
   "language": "python",
   "name": "python3"
  },
  "language_info": {
   "codemirror_mode": {
    "name": "ipython",
    "version": 3
   },
   "file_extension": ".py",
   "mimetype": "text/x-python",
   "name": "python",
   "nbconvert_exporter": "python",
   "pygments_lexer": "ipython3",
   "version": "3.7.3"
  }
 },
 "nbformat": 4,
 "nbformat_minor": 5
}
